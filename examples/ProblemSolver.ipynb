{
 "cells": [
  {
   "cell_type": "markdown",
   "id": "a80b756a",
   "metadata": {},
   "source": [
    "# Problem Solver Introduction\n",
    "\n",
    "This notebook introduces the `ProblemSolver` module, which provides a unified interface for solving quantum many-body problems. The module supports both classical and quantum eigenvalue solvers, allowing users to compute ground state energies and eigenstates for various Hamiltonians."
   ]
  },
  {
   "cell_type": "markdown",
   "id": "ba0691f9",
   "metadata": {},
   "source": [
    "## Purpose of ProblemSolver in DMET\n",
    "\n",
    "The `ProblemSolver` module is used in DMET (Density Matrix Embedding Theory) to solve quantum many-body problems for embedded Hamiltonians. Its main functions include:\n",
    "- Calculating ground state energies for fragment or impurity Hamiltonians.\n",
    "- Obtaining one-body and two-body reduced density matrices (1-RDM and 2-RDM) for self-consistency and correlation analysis.\n",
    "- Supporting both classical and quantum algorithms for eigenvalue problems, making it suitable for different system sizes and computational resources.\n",
    "\n",
    "In DMET workflows, ProblemSolver is a core component for accurate quantum simulations and embedding procedures."
   ]
  },
  {
   "cell_type": "markdown",
   "id": "a787fe70",
   "metadata": {},
   "source": [
    "## Overview\n",
    "\n",
    "The `ProblemSolver` module is structured into classical and quantum solvers:\n",
    "- `ClassicalEigenSolver`: Solves eigenvalue problems using classical algorithms (e.g., numpy/scipy).\n",
    "- `QuantumEigenSolver`: Interfaces with quantum algorithms or simulators for eigenvalue problems.\n",
    "\n",
    "Users can select the appropriate solver based on the problem size and available computational resources."
   ]
  },
  {
   "cell_type": "markdown",
   "id": "1fc80583",
   "metadata": {},
   "source": [
    "## Example Usage\n",
    "\n",
    "Below is an example of how to use the `QuantumEigenSolver` to solve a simple eigenvalue problem for a given Hamiltonian matrix."
   ]
  },
  {
   "cell_type": "code",
   "execution_count": 3,
   "id": "8361f2fa",
   "metadata": {},
   "outputs": [
    {
     "name": "stdout",
     "output_type": "stream",
     "text": [
      "Ground state energy: -1.1369707220113465\n",
      "1-RDM:\n",
      " [[ 9.86916669e-01+0.j -9.52772143e-06+0.j  1.21593273e-02+0.j\n",
      "   2.02843228e-03+0.j]\n",
      " [-9.52772143e-06+0.j  9.87297473e-01+0.j  1.19202533e-03+0.j\n",
      "  -4.75466368e-03+0.j]\n",
      " [ 1.21593273e-02+0.j  1.19202533e-03+0.j  1.30803351e-02+0.j\n",
      "   1.78087939e-05+0.j]\n",
      " [ 2.02843228e-03+0.j -4.75466368e-03+0.j  1.78087939e-05+0.j\n",
      "   1.27049178e-02+0.j]]\n",
      "2-RDM shape: (4, 4, 4, 4)\n"
     ]
    }
   ],
   "source": [
    "# Example: QuantumEigenSolver usage (official example from QuantumEigenSolver/EigenSolver.py)\n",
    "from DMET.ProblemSolver.QuantumEigenSolver.EigenSolver import EigenSolver as QuantumEigenSolver\n",
    "from openfermion.transforms import get_fermion_operator\n",
    "import openfermionpyscf\n",
    "import openfermion\n",
    "\n",
    "# Build a molecular Hamiltonian using OpenFermion-PySCF\n",
    "geometry = [('H', (0, 0, 0.0)), ('H', (0, 0, 0.74))]\n",
    "basis = 'sto3g'\n",
    "multiplicity = 1\n",
    "charge = 0\n",
    "molecule = openfermionpyscf.run_pyscf(\n",
    "    openfermion.MolecularData(geometry, basis, multiplicity, charge))\n",
    "molecular_hamiltonian = molecule.get_molecular_hamiltonian()\n",
    "H = get_fermion_operator(molecular_hamiltonian)\n",
    "\n",
    "# Initialize the quantum eigen solver\n",
    "solver = QuantumEigenSolver()\n",
    "\n",
    "# Solve for ground state energy and reduced density matrices\n",
    "energy, rdm1, rdm2 = solver.solve(H, number_of_orbitals=4, number_of_electrons=2)\n",
    "print(\"Ground state energy:\", energy)\n",
    "print(\"1-RDM:\\n\", rdm1)\n",
    "print(\"2-RDM shape:\", rdm2.shape)"
   ]
  },
  {
   "cell_type": "markdown",
   "id": "fa597a37",
   "metadata": {},
   "source": [
    "## How to Define a Custom Problem Solver\n",
    "\n",
    "To create your own problem solver, you can subclass the main solver interface (e.g., `ProblemSolver` or `EigenSolver`) and implement the required methods for your specific algorithm or workflow. You may also need to include necessary imports such as numpy, scipy, or quantum libraries depending on your solver type.\n",
    "\n",
    "### Key points to include:\n",
    "- Inherit from the appropriate base solver class (e.g., `ProblemSolver`, `EigenSolver`).\n",
    "- Implement a `solve()` method or similar, which takes the Hamiltonian or problem data and returns the solution (e.g., eigenvalues, eigenvectors).\n",
    "- Include any required imports (e.g., numpy, scipy, or quantum SDKs).\n",
    "- Optionally, add custom initialization or configuration logic."
   ]
  },
  {
   "cell_type": "code",
   "execution_count": null,
   "id": "a49bf4ed",
   "metadata": {},
   "outputs": [],
   "source": [
    "# Example: Custom Quantum Problem Solver\n",
    "# IMPORTANT: Your input Hamiltonian must be an OpenFermion FermionOperator!\n",
    "# You must process the FermionOperator in your solve() method (e.g., convert to matrix or quantum circuit before calculation)\n",
    "from DMET.ProblemSolver.QuantumEigenSolver.EigenSolver import EigenSolver\n",
    "\n",
    "class MyCustomQuantumSolver(EigenSolver):\n",
    "    def __init__(self, hamiltonian):\n",
    "        super().__init__(hamiltonian)\n",
    "        # Add any custom initialization here\n",
    "        # Your input Hamiltonian should already be a FermionOperator\n",
    "\n",
    "    def solve(self):\n",
    "        # You must process the FermionOperator here for quantum computation\n",
    "        # For example, convert to qubit operator and use a quantum algorithm\n",
    "        # qubit_op = convert_fermion_operator_to_qubit_operator(self.hamiltonian)\n",
    "        # result = run_quantum_algorithm(qubit_op)\n",
    "        # return result\n",
    "        pass\n",
    "\n",
    "# Usage\n",
    "# H = FermionOperator(...)  # Your FermionOperator Hamiltonian\n",
    "# solver = MyCustomQuantumSolver(H)\n",
    "# result = solver.solve()\n",
    "# print(\"Quantum result:\", result)"
   ]
  }
 ],
 "metadata": {
  "kernelspec": {
   "display_name": ".venv",
   "language": "python",
   "name": "python3"
  },
  "language_info": {
   "codemirror_mode": {
    "name": "ipython",
    "version": 3
   },
   "file_extension": ".py",
   "mimetype": "text/x-python",
   "name": "python",
   "nbconvert_exporter": "python",
   "pygments_lexer": "ipython3",
   "version": "3.10.15"
  }
 },
 "nbformat": 4,
 "nbformat_minor": 5
}
